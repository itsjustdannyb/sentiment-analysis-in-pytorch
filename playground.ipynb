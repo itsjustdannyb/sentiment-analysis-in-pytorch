{
 "cells": [
  {
   "cell_type": "markdown",
   "id": "accc768a",
   "metadata": {},
   "source": [
    "## sentiment analysis in pytorch"
   ]
  },
  {
   "cell_type": "code",
   "execution_count": 92,
   "id": "04dd2025",
   "metadata": {},
   "outputs": [],
   "source": [
    "import os\n",
    "import re\n",
    "import pandas as pd\n",
    "from pathlib import Path\n",
    "import matplotlib.pyplot as plt\n",
    "\n",
    "import nltk\n",
    "from nltk.tokenize import TweetTokenizer\n",
    "\n",
    "import torch\n",
    "from torch import nn\n",
    "from torch.utils.data import Dataset, DataLoader, Subset\n",
    "\n",
    "device = torch.device(\"cuda\" if torch.cuda.is_available() else \"cpu\")"
   ]
  },
  {
   "cell_type": "code",
   "execution_count": 93,
   "id": "78aa260a",
   "metadata": {},
   "outputs": [],
   "source": [
    "data_path = Path(r\"C:\\Users\\bamilosin\\Documents\\dataset\\nlp\\sentiment data\")\n",
    "train_path = data_path / \"train.csv\"\n",
    "test_path = data_path / \"test.csv\""
   ]
  },
  {
   "cell_type": "code",
   "execution_count": 21,
   "id": "9d8acf91",
   "metadata": {},
   "outputs": [
    {
     "name": "stdout",
     "output_type": "stream",
     "text": [
      "{'encoding': 'windows-1250', 'language': 'English', 'confidence': 0.9676666666666667}\n"
     ]
    }
   ],
   "source": [
    "# get data.csv encoding\n",
    "\n",
    "from charset_normalizer import detect\n",
    "\n",
    "with open(train_path, 'rb') as file:\n",
    "    result = detect(file.read())\n",
    "    print(result)"
   ]
  },
  {
   "cell_type": "code",
   "execution_count": 109,
   "id": "67bd3e59",
   "metadata": {},
   "outputs": [
    {
     "name": "stdout",
     "output_type": "stream",
     "text": [
      "<class 'pandas.core.frame.DataFrame'>\n",
      "RangeIndex: 27480 entries, 0 to 27479\n",
      "Data columns (total 3 columns):\n",
      " #   Column     Non-Null Count  Dtype \n",
      "---  ------     --------------  ----- \n",
      " 0   index      27480 non-null  int64 \n",
      " 1   text       27480 non-null  object\n",
      " 2   sentiment  27480 non-null  object\n",
      "dtypes: int64(1), object(2)\n",
      "memory usage: 644.2+ KB\n"
     ]
    }
   ],
   "source": [
    "train_data = pd.read_csv(train_path, encoding=result['encoding'])\n",
    "train_data = train_data[['text', 'sentiment']] # the two columns we need.\n",
    "\n",
    "# remove null values\n",
    "train_data = train_data.dropna()\n",
    "train_data = train_data.reset_index() # reset index because of removed rows\n",
    "train_data.info()"
   ]
  },
  {
   "cell_type": "code",
   "execution_count": null,
   "id": "864fd025",
   "metadata": {},
   "outputs": [],
   "source": []
  },
  {
   "cell_type": "markdown",
   "id": "4d4ff2a1",
   "metadata": {},
   "source": [
    "## create dataset"
   ]
  },
  {
   "cell_type": "code",
   "execution_count": 124,
   "id": "8e959ad7",
   "metadata": {},
   "outputs": [],
   "source": [
    "class SentimentDataset(Dataset):\n",
    "    def __init__(self, df, csv_encoding:str=\"windows-1250\"):\n",
    "        super(SentimentDataset, self).__init__()\n",
    "        \n",
    "        self.df = df\n",
    "        self.df.loc[:, 'text'] = self.df.loc[:, 'text'].apply(self.clean_data) # clean data\n",
    "        self.df.loc[:, 'tokens'] = self.df.loc[:, 'text'].apply(self.tokenize_data) # tokenize data\n",
    "\n",
    "        self.all_tokens = list(self.df.loc[:, 'tokens'].values) # get all tokens\n",
    "        self.longest_seq = self.get_longest_seq(self.all_tokens) # get longest token\n",
    "        self.corpus = sorted(list(set([text for sublist in self.all_tokens for text in sublist]))) # set of words\n",
    "\n",
    "        self.vocab = self.create_vocab(self.corpus) # create vocab\n",
    "        self.idx2word = {idx : key for key, idx in self.vocab.items()} # idx to word\n",
    "\n",
    "        self.df.loc[:, 'tokens'] = self.df.loc[:, 'tokens'].apply(lambda x : self.pad_token(x, self.longest_seq, self.idx2word[0])) # pad tokens\n",
    "\n",
    "        self.df.loc[:, 'indices'] = self.df.loc[:, 'tokens'].apply(lambda x: self.create_indices(self.vocab, x)) # create indices\n",
    "\n",
    "        self.label_map = {\n",
    "            'negative' : 0,\n",
    "            'positive': 1,\n",
    "            'neutral' : 2\n",
    "        }\n",
    "\n",
    "        self.df.loc[:, 'labels'] = self.df.loc[:, 'sentiment'].apply(lambda x : self.labelizer(x, self.label_map)) # get label id\n",
    "       \n",
    "\n",
    "    def clean_data(self, text):\n",
    "        text_lower = text.lower()\n",
    "        clean_text = re.sub('[<>{};@#$%^&*()>]', '', text_lower)\n",
    "        return clean_text\n",
    "    \n",
    "    def tokenize_data(self, text):\n",
    "\n",
    "        stopwords = nltk.corpus.stopwords.words('english')\n",
    "        tokenizer = nltk.TweetTokenizer()\n",
    "        tokens = tokenizer.tokenize(text)\n",
    "\n",
    "        # remove stopwords\n",
    "        tokens = [token for token in tokens if token not in stopwords]\n",
    "        return tokens\n",
    "    \n",
    "    def get_longest_seq(self, token_lists):\n",
    "        longest_seq = 0\n",
    "        for token_list in token_lists:\n",
    "            if len(token_list) > longest_seq:\n",
    "                longest_seq = len(token_list)\n",
    "\n",
    "        return longest_seq\n",
    "\n",
    "    def pad_token(self, token_list, longest_seq, pad_token:str='<PAD>'):\n",
    "        if len(token_list) < longest_seq:\n",
    "            return token_list + [pad_token for _ in range(longest_seq - len(token_list))]\n",
    "        else:\n",
    "            return token_list\n",
    "        \n",
    "    def create_vocab(self, corpus):\n",
    "        vocab = {\n",
    "            \"<PAD>\": 0\n",
    "        }\n",
    "\n",
    "        for word in corpus:\n",
    "            vocab[word] = (len(vocab) - 1) +  1\n",
    "\n",
    "\n",
    "        return vocab\n",
    "    \n",
    "    def create_indices(self, vocab, tokens):\n",
    "        return [vocab[token] for token in tokens]\n",
    "    \n",
    "    def labelizer(self, label, label_map):\n",
    "        return label_map[label]\n",
    "    \n",
    "    def __len__(self):\n",
    "        return len(self.df)\n",
    "    \n",
    "    def __getitem__(self, idx):\n",
    "        indices, label = self.df[['indices', 'labels']].loc[idx].values\n",
    "        indices = torch.tensor(indices, dtype=torch.int)\n",
    "        label = torch.tensor(label)\n",
    "\n",
    "        return indices, label    \n",
    "    "
   ]
  },
  {
   "cell_type": "code",
   "execution_count": 125,
   "id": "4a8ac546",
   "metadata": {},
   "outputs": [],
   "source": [
    "dataset = SentimentDataset(train_data)\n",
    "indices = torch.randperm(len(dataset)).tolist()\n",
    "\n",
    "train_size = 0.7\n",
    "train_dataset = Subset(dataset, indices[:int(train_size*len(dataset))])\n",
    "test_dataset = Subset(dataset, indices[int(train_size*len(dataset)):])\n",
    "\n",
    "BATCH_SIZE = 128\n",
    "train_dataloader = DataLoader(train_dataset, BATCH_SIZE, shuffle=True)\n",
    "test_dataloader = DataLoader(test_dataset, BATCH_SIZE, shuffle=True)"
   ]
  },
  {
   "cell_type": "code",
   "execution_count": 112,
   "id": "ce014c71",
   "metadata": {},
   "outputs": [],
   "source": [
    "indices, labels = next(iter(train_dataloader))"
   ]
  },
  {
   "cell_type": "code",
   "execution_count": 113,
   "id": "c0cadeed",
   "metadata": {},
   "outputs": [],
   "source": [
    "VOCAB_SIZE = len(dataset.vocab)\n",
    "EMBED_DIM = 128"
   ]
  },
  {
   "cell_type": "markdown",
   "id": "92300ea0",
   "metadata": {},
   "source": [
    "## The Model: Transformer Encoder"
   ]
  },
  {
   "cell_type": "code",
   "execution_count": 114,
   "id": "e6b35d7b",
   "metadata": {},
   "outputs": [],
   "source": [
    "class SentimentClassifier(nn.Module):\n",
    "    def __init__(self, vocab_size:int, embedding_dim:int, nhead:int, mlp_size:int, num_layers:int):\n",
    "        super(SentimentClassifier, self).__init__()\n",
    "        \n",
    "        self.embedding_layer = nn.Embedding(num_embeddings=vocab_size, embedding_dim=embedding_dim)\n",
    "        self.pos_embedding = torch.randn(1, 1, embedding_dim, requires_grad=True, device=device)\n",
    "        self.encoder = nn.TransformerEncoderLayer(d_model=embedding_dim,\n",
    "                                                  nhead=nhead,\n",
    "                                                  dim_feedforward=mlp_size,\n",
    "                                                  batch_first=True)\n",
    "        self.encoder_block = nn.TransformerEncoder(encoder_layer=self.encoder, num_layers=num_layers)\n",
    "\n",
    "        self.classifier = nn.Sequential(\n",
    "            nn.Linear(in_features=embedding_dim, out_features=16),\n",
    "            nn.Tanh(),\n",
    "            nn.Linear(in_features=16, out_features=3)\n",
    "        )\n",
    "\n",
    "    def forward(self, x):\n",
    "        batch_size = x.shape[0]\n",
    "        x = self.embedding_layer(x)\n",
    "        # get positional embeddings for each batch\n",
    "        pos_embed = self.pos_embedding.expand(batch_size,  1, x.shape[-1])\n",
    "        # add token embeddings to positional embeddings\n",
    "        pos_token_embeddings = pos_embed + x\n",
    "        x = self.encoder_block(pos_token_embeddings)\n",
    "        return self.classifier(x[:, -1])"
   ]
  },
  {
   "cell_type": "code",
   "execution_count": 79,
   "id": "8c69fd5d",
   "metadata": {},
   "outputs": [
    {
     "data": {
      "text/plain": [
       "SentimentClassifier(\n",
       "  (embedding_layer): Embedding(27181, 128)\n",
       "  (encoder): TransformerEncoderLayer(\n",
       "    (self_attn): MultiheadAttention(\n",
       "      (out_proj): NonDynamicallyQuantizableLinear(in_features=128, out_features=128, bias=True)\n",
       "    )\n",
       "    (linear1): Linear(in_features=128, out_features=512, bias=True)\n",
       "    (dropout): Dropout(p=0.1, inplace=False)\n",
       "    (linear2): Linear(in_features=512, out_features=128, bias=True)\n",
       "    (norm1): LayerNorm((128,), eps=1e-05, elementwise_affine=True)\n",
       "    (norm2): LayerNorm((128,), eps=1e-05, elementwise_affine=True)\n",
       "    (dropout1): Dropout(p=0.1, inplace=False)\n",
       "    (dropout2): Dropout(p=0.1, inplace=False)\n",
       "  )\n",
       "  (encoder_block): TransformerEncoder(\n",
       "    (layers): ModuleList(\n",
       "      (0-3): 4 x TransformerEncoderLayer(\n",
       "        (self_attn): MultiheadAttention(\n",
       "          (out_proj): NonDynamicallyQuantizableLinear(in_features=128, out_features=128, bias=True)\n",
       "        )\n",
       "        (linear1): Linear(in_features=128, out_features=512, bias=True)\n",
       "        (dropout): Dropout(p=0.1, inplace=False)\n",
       "        (linear2): Linear(in_features=512, out_features=128, bias=True)\n",
       "        (norm1): LayerNorm((128,), eps=1e-05, elementwise_affine=True)\n",
       "        (norm2): LayerNorm((128,), eps=1e-05, elementwise_affine=True)\n",
       "        (dropout1): Dropout(p=0.1, inplace=False)\n",
       "        (dropout2): Dropout(p=0.1, inplace=False)\n",
       "      )\n",
       "    )\n",
       "  )\n",
       "  (classifier): Sequential(\n",
       "    (0): Linear(in_features=128, out_features=16, bias=True)\n",
       "    (1): Tanh()\n",
       "    (2): Linear(in_features=16, out_features=3, bias=True)\n",
       "  )\n",
       ")"
      ]
     },
     "execution_count": 79,
     "metadata": {},
     "output_type": "execute_result"
    }
   ],
   "source": [
    "model = SentimentClassifier(vocab_size=VOCAB_SIZE,\n",
    "                            embedding_dim=EMBED_DIM,\n",
    "                            nhead=8,\n",
    "                            mlp_size=512,\n",
    "                            num_layers=4).to(device)\n",
    "model"
   ]
  },
  {
   "cell_type": "code",
   "execution_count": 115,
   "id": "b46f96b5",
   "metadata": {},
   "outputs": [],
   "source": [
    "def accuracy(y_logits, y_true):\n",
    "    acc = torch.eq(torch.argmax(y_logits, dim=-1), y_true).sum().item()\n",
    "    return (acc / len(y_true)) * 100.0\n",
    "\n",
    "LR = 1e-4\n",
    "optimizer = torch.optim.Adam(model.parameters(), lr=LR)\n",
    "loss_fn = nn.CrossEntropyLoss().to(device)\n",
    "\n",
    "scheduler = torch.optim.lr_scheduler.StepLR(optimizer, 1000, 0.1)"
   ]
  },
  {
   "cell_type": "code",
   "execution_count": 116,
   "id": "fa28f193",
   "metadata": {},
   "outputs": [],
   "source": [
    "def train(model, dataloader, epochs, optimizer, loss_fn, scheduler):\n",
    "\n",
    "    history = {\n",
    "        \"train_loss\": [],\n",
    "        \"train_acc\": []\n",
    "    }\n",
    "\n",
    "    model.train()\n",
    "    for epoch in range(epochs):\n",
    "        train_loss, train_acc = 0.0, 0.0\n",
    "        for indices, labels in dataloader:\n",
    "            indices, labels = indices.to(device), labels.to(device)\n",
    "\n",
    "            logits = model(indices)\n",
    "            loss = loss_fn(logits, labels)\n",
    "            acc = accuracy(logits, labels)\n",
    "\n",
    "            optimizer.zero_grad()\n",
    "            loss.backward()\n",
    "            optimizer.step()\n",
    "\n",
    "            scheduler.step()\n",
    "\n",
    "            train_loss += loss.item()\n",
    "            train_acc += acc\n",
    "\n",
    "        train_loss /= len(dataloader)\n",
    "        train_acc /= len(dataloader)\n",
    "        history['train_loss'].append(train_loss)\n",
    "        history['train_acc'].append(train_acc)\n",
    "\n",
    "        print(f\"{epoch+1}/{epochs} | train_loss: {train_loss:.5f} | train_acc: {train_acc:.2f}% | lr: {optimizer.param_groups[0]['lr']}\")\n",
    "\n",
    "    \n",
    "    return history"
   ]
  },
  {
   "cell_type": "code",
   "execution_count": 117,
   "id": "c58a710f",
   "metadata": {},
   "outputs": [
    {
     "name": "stdout",
     "output_type": "stream",
     "text": [
      "1/10 | train_loss: 0.73401 | train_acc: 68.95% | lr: 0.0001\n",
      "2/10 | train_loss: 0.71377 | train_acc: 70.37% | lr: 0.0001\n",
      "3/10 | train_loss: 0.69862 | train_acc: 71.30% | lr: 0.0001\n",
      "4/10 | train_loss: 0.68147 | train_acc: 72.22% | lr: 0.0001\n",
      "5/10 | train_loss: 0.66414 | train_acc: 73.02% | lr: 0.0001\n",
      "6/10 | train_loss: 0.64178 | train_acc: 74.21% | lr: 0.0001\n",
      "7/10 | train_loss: 0.62303 | train_acc: 75.27% | lr: 1e-05\n",
      "8/10 | train_loss: 0.59478 | train_acc: 77.08% | lr: 1e-05\n",
      "9/10 | train_loss: 0.59064 | train_acc: 77.27% | lr: 1e-05\n",
      "10/10 | train_loss: 0.58853 | train_acc: 77.45% | lr: 1e-05\n"
     ]
    }
   ],
   "source": [
    "history = train(model, train_dataloader, 10,  optimizer, loss_fn, scheduler)"
   ]
  },
  {
   "cell_type": "code",
   "execution_count": 118,
   "id": "a39eaa9e",
   "metadata": {},
   "outputs": [
    {
     "data": {
      "image/png": "[encoded data removed]",
      "text/plain": [
       "<Figure size 640x480 with 1 Axes>"
      ]
     },
     "metadata": {},
     "output_type": "display_data"
    }
   ],
   "source": [
    "history_df = pd.DataFrame(history)\n",
    "plt.plot(history_df['train_loss'])\n",
    "plt.xlabel('Epochs')\n",
    "plt.ylabel('Loss')\n",
    "plt.show()"
   ]
  },
  {
   "cell_type": "code",
   "execution_count": 202,
   "id": "794617e6",
   "metadata": {},
   "outputs": [
    {
     "name": "stdout",
     "output_type": "stream",
     "text": [
      "test_acc: 75.36242603550296%\n"
     ]
    }
   ],
   "source": [
    "test_preds = []\n",
    "test_labels = []\n",
    "\n",
    "with torch.no_grad():\n",
    "    train_acc = 0\n",
    "    for indices, labels in test_dataloader:\n",
    "        test_labels.append(labels)\n",
    "        indices, labels = indices.to(device), labels.to(device)\n",
    "        preds = model(indices)\n",
    "        test_preds.append(torch.argmax(preds, -1).detach().cpu())\n",
    "        acc = accuracy(preds, labels)\n",
    "\n",
    "        train_acc += acc\n",
    "\n",
    "    train_acc /= len(test_dataloader)\n",
    "\n",
    "print(f\"test_acc: {train_acc}%\")"
   ]
  },
  {
   "cell_type": "code",
   "execution_count": 161,
   "id": "ff092970",
   "metadata": {},
   "outputs": [
    {
     "name": "stdout",
     "output_type": "stream",
     "text": [
      "original text: i feel so down an depressed\n",
      "cleaned_data: i feel so down an depressed\n",
      "text tokens: ['feel', 'depressed']\n",
      "padded_tokens: ['feel', 'depressed', '<PAD>', '<PAD>', '<PAD>', '<PAD>', '<PAD>', '<PAD>', '<PAD>', '<PAD>', '<PAD>', '<PAD>', '<PAD>', '<PAD>', '<PAD>', '<PAD>', '<PAD>', '<PAD>', '<PAD>', '<PAD>', '<PAD>', '<PAD>', '<PAD>', '<PAD>', '<PAD>', '<PAD>', '<PAD>', '<PAD>', '<PAD>', '<PAD>', '<PAD>', '<PAD>', '<PAD>', '<PAD>', '<PAD>', '<PAD>', '<PAD>', '<PAD>', '<PAD>', '<PAD>', '<PAD>', '<PAD>', '<PAD>', '<PAD>', '<PAD>', '<PAD>', '<PAD>', '<PAD>', '<PAD>', '<PAD>', '<PAD>', '<PAD>', '<PAD>', '<PAD>', '<PAD>', '<PAD>']\n",
      "indices: [9229, 7403, 0, 0, 0, 0, 0, 0, 0, 0, 0, 0, 0, 0, 0, 0, 0, 0, 0, 0, 0, 0, 0, 0, 0, 0, 0, 0, 0, 0, 0, 0, 0, 0, 0, 0, 0, 0, 0, 0, 0, 0, 0, 0, 0, 0, 0, 0, 0, 0, 0, 0, 0, 0, 0, 0]\n",
      "\n",
      "prediction: negative\n"
     ]
    }
   ],
   "source": [
    "text = \"i feel so down an depressed\"\n",
    "\n",
    "def input_to_indices(dataset, text):\n",
    "    print(f\"original text: {text}\")\n",
    "    # clean and tokenize, pad and get indices\n",
    "    clean_text = dataset.clean_data(text)\n",
    "    print(f\"cleaned_data: {clean_text}\")\n",
    "    tokens = dataset.tokenize_data(clean_text)\n",
    "    print(f\"text tokens: {tokens}\")\n",
    "    padded_tokens = dataset.pad_token(tokens, dataset.longest_seq)\n",
    "    print(f\"padded_tokens: {padded_tokens}\")\n",
    "    indices = dataset.create_indices(dataset.vocab, padded_tokens)\n",
    "    print(f\"indices: {indices}\")\n",
    "\n",
    "    return indices\n",
    "\n",
    "indices = torch.tensor(input_to_indices(dataset, text)).to(device).unsqueeze(0)\n",
    "\n",
    "# pass indices through model\n",
    "with torch.no_grad():\n",
    "    pred = model(indices)\n",
    "\n",
    "pred_id = torch.argmax(pred,-1).item()\n",
    "prediction = list(dataset.label_map.keys())[pred_id]\n",
    "print(f\"\\nprediction: {prediction}\")"
   ]
  },
  {
   "cell_type": "code",
   "execution_count": 150,
   "id": "c078d4b9",
   "metadata": {},
   "outputs": [],
   "source": [
    "# save the model\n",
    "torch.save(model.state_dict(), \"sentiment_classifier_weights.pth\")"
   ]
  },
  {
   "cell_type": "markdown",
   "id": "f9387be6",
   "metadata": {},
   "source": [
    "### Metrics"
   ]
  },
  {
   "cell_type": "code",
   "execution_count": 212,
   "id": "1a6ff65b",
   "metadata": {},
   "outputs": [],
   "source": [
    "from torchmetrics.classification import MulticlassPrecision, MulticlassRecall, MulticlassF1Score, MulticlassConfusionMatrix\n",
    "import seaborn as sns"
   ]
  },
  {
   "cell_type": "code",
   "execution_count": 209,
   "id": "642800ed",
   "metadata": {},
   "outputs": [],
   "source": [
    "precision = MulticlassPrecision(num_classes=3)\n",
    "recall =MulticlassRecall(num_classes=3)\n",
    "f1 = MulticlassF1Score(num_classes=3)\n",
    "confusion_mat = MulticlassConfusionMatrix(num_classes=3)"
   ]
  },
  {
   "cell_type": "code",
   "execution_count": 204,
   "id": "9200c992",
   "metadata": {},
   "outputs": [],
   "source": [
    "test_preds = torch.cat(test_preds)\n",
    "test_labels = torch.cat(test_labels)"
   ]
  },
  {
   "cell_type": "code",
   "execution_count": 210,
   "id": "d39262dd",
   "metadata": {},
   "outputs": [
    {
     "name": "stdout",
     "output_type": "stream",
     "text": [
      "precision: 0.7663800120353699\n",
      "recall: 0.7488197088241577\n",
      "f1_score: 0.7551962733268738\n"
     ]
    }
   ],
   "source": [
    "precision_score = precision(test_preds, test_labels)\n",
    "recall_score = recall(test_preds, test_labels)\n",
    "f1_score = f1(test_preds, test_labels)\n",
    "conf_mat = confusion_mat(test_preds, test_labels)\n",
    "\n",
    "print(f\"precision: {precision_score}\")\n",
    "print(f\"recall: {recall_score}\")\n",
    "print(f\"f1_score: {f1_score}\")\n"
   ]
  },
  {
   "cell_type": "code",
   "execution_count": 222,
   "id": "ab1d383b",
   "metadata": {},
   "outputs": [
    {
     "data": {
      "image/png": "[encoded data removed]",
      "text/plain": [
       "<Figure size 640x480 with 2 Axes>"
      ]
     },
     "metadata": {},
     "output_type": "display_data"
    }
   ],
   "source": [
    "sns.heatmap(conf_mat, cmap='flare', annot=True, fmt='d', square=True)\n",
    "plt.title(\"Confusion Matrix across all Classes\")\n",
    "plt.show()"
   ]
  },
  {
   "cell_type": "code",
   "execution_count": null,
   "id": "ceb762de",
   "metadata": {},
   "outputs": [],
   "source": []
  }
 ],
 "metadata": {
  "kernelspec": {
   "display_name": "Python 3",
   "language": "python",
   "name": "python3"
  },
  "language_info": {
   "codemirror_mode": {
    "name": "ipython",
    "version": 3
   },
   "file_extension": ".py",
   "mimetype": "text/x-python",
   "name": "python",
   "nbconvert_exporter": "python",
   "pygments_lexer": "ipython3",
   "version": "3.13.5"
  }
 },
 "nbformat": 4,
 "nbformat_minor": 5
}
